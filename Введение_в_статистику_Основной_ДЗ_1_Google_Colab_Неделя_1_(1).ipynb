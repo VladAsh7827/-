{
  "cells": [
    {
      "cell_type": "markdown",
      "metadata": {
        "id": "view-in-github",
        "colab_type": "text"
      },
      "source": [
        "<a href=\"https://colab.research.google.com/github/VladAsh7827/-/blob/main/%D0%92%D0%B2%D0%B5%D0%B4%D0%B5%D0%BD%D0%B8%D0%B5_%D0%B2_%D1%81%D1%82%D0%B0%D1%82%D0%B8%D1%81%D1%82%D0%B8%D0%BA%D1%83_%D0%9E%D1%81%D0%BD%D0%BE%D0%B2%D0%BD%D0%BE%D0%B8%CC%86_%D0%94%D0%97_1_Google_Colab_%D0%9D%D0%B5%D0%B4%D0%B5%D0%BB%D1%8F_1_(1).ipynb\" target=\"_parent\"><img src=\"https://colab.research.google.com/assets/colab-badge.svg\" alt=\"Open In Colab\"/></a>"
      ]
    },
    {
      "cell_type": "markdown",
      "metadata": {
        "id": "ie9cpjI9DGWs"
      },
      "source": [
        "# Домашнее задание 1. Введение в NumPy и описательные статистики"
      ]
    },
    {
      "cell_type": "markdown",
      "metadata": {
        "id": "UZj-gauR2dLJ"
      },
      "source": [
        "**Правила:**\n",
        "* В задачах этого ДЗ все пункты решаются с помощью средств Numpy\n",
        "* Если условие задачи содержит вопрос, подразумевающий текстовый ответ или вывод, его необходимо давать разёрнуто и подробно. Односложные ответы не будут оценены в полный балл\n",
        "\n",
        "**Решение оценивается в 0 баллов, если:**\n",
        "* В коде содержится готовый, непонятно откуда взявшийся ответ (например вместо `print(arr.shape)` написано `print((3,4))`\n",
        "* Есть подозрения на списывание"
      ]
    },
    {
      "cell_type": "code",
      "execution_count": null,
      "metadata": {
        "id": "7jXC83iK23Em"
      },
      "outputs": [],
      "source": [
        "import numpy as np\n",
        "import scipy.stats as sps"
      ]
    },
    {
      "cell_type": "markdown",
      "metadata": {
        "id": "nzhXC1b8ZCdd"
      },
      "source": [
        "## 1. Базовая работа с массивом 🍭"
      ]
    },
    {
      "cell_type": "markdown",
      "metadata": {
        "id": "nvIWBF1uZPK0"
      },
      "source": [
        "А. (0,2  балла) Создай двумерный массив `data` следующего содержания:\n",
        "\n",
        "```\n",
        "5 2 1 7 3\n",
        "4 6 8 2 13\n",
        "1 7 8 7 7\n",
        "```\n",
        "\n",
        " и сразу, при создании, присвой данным тип `np.int32`.\n",
        "\n",
        "Б. (0,2  балла) Для получившегося массива узнай общее число элементов с помошью средств Numpy двумя разными способами\n",
        "\n",
        "В. (0,3  балла) Приведи массив к типу `np.float32` и сохрани результат в перменную `data_float`. Возведи значения обоих массивов в степень 110 любым удобным способом. Объясни, чем может отличаться результат арифметических операций до и после приведения\n",
        "\n",
        "Г. (0,3  балла) Возведи исходный массив `data` в квадрат отличным от пункта 3 способом и объясни, как изменится порядок элементов, если потом применить `.flatten()` и `.reshape(1, -1)`. Почему так произошло?\n"
      ]
    },
    {
      "cell_type": "markdown",
      "metadata": {
        "id": "Oa9egZE1atJU"
      },
      "source": [
        "### 1А (0,2  балла). Создай двумерный массив `data` следующего содержания:\n",
        "\n",
        "```\n",
        "5 2 1 7 3\n",
        "4 6 8 2 13\n",
        "1 7 8 7 7\n",
        "```\n",
        "\n",
        " и сразу, при создании, присвой данным тип `np.int32`.\n"
      ]
    },
    {
      "cell_type": "markdown",
      "metadata": {
        "id": "_RmUwgOhb2tq"
      },
      "source": [
        "**Решение**"
      ]
    },
    {
      "cell_type": "code",
      "execution_count": null,
      "metadata": {
        "id": "2mv-fziJaWAx"
      },
      "outputs": [],
      "source": [
        "# твоё решение здесь\n",
        "data = np.array(([5, 2, 1, 7, 3], [4, 6, 8, 2, 13], [1, 7, 8, 7, 7]), dtype=np.int32)"
      ]
    },
    {
      "cell_type": "markdown",
      "metadata": {
        "id": "kbjDi8t8atOc"
      },
      "source": [
        "### 1Б (0,2  балла). Для получившегося массива узнай:"
      ]
    },
    {
      "cell_type": "markdown",
      "metadata": {
        "id": "kJtZl_h0atWG"
      },
      "source": [
        "#### Общее число элементов двумя разными способами"
      ]
    },
    {
      "cell_type": "markdown",
      "metadata": {
        "id": "h4HkaUJPcBZx"
      },
      "source": [
        "**Решение**"
      ]
    },
    {
      "cell_type": "code",
      "execution_count": null,
      "metadata": {
        "id": "y4HgTfT0aKcs",
        "outputId": "6c5a7a05-1ede-4dc7-92f0-7d1ae827ff0f"
      },
      "outputs": [
        {
          "data": {
            "text/plain": [
              "(3, 5)"
            ]
          },
          "execution_count": 3,
          "metadata": {},
          "output_type": "execute_result"
        }
      ],
      "source": [
        "# твоё решение здесь\n",
        "data.size\n",
        "data.shape"
      ]
    },
    {
      "cell_type": "markdown",
      "metadata": {
        "id": "sG95sxtfatYq"
      },
      "source": [
        "### 1В (0,3  балла). Создай копию массива. Создай копию массива и сохрани её в переменную `data_float`.\n",
        "\n"
      ]
    },
    {
      "cell_type": "markdown",
      "metadata": {
        "id": "cjHymCJbcCVn"
      },
      "source": [
        "**Решение**"
      ]
    },
    {
      "cell_type": "code",
      "execution_count": null,
      "metadata": {
        "id": "CnnmmZE-aTPX"
      },
      "outputs": [],
      "source": [
        "# твоё решение здесь\n",
        "data_float = data.copy()"
      ]
    },
    {
      "cell_type": "markdown",
      "metadata": {
        "id": "-3DyfCwdatbN"
      },
      "source": [
        "#### Приведи массив к типу `np.float32` и сохрани результат в перменную `data_float`. Возведи значения обоих массивов в степень 110 любым удобным способом."
      ]
    },
    {
      "cell_type": "markdown",
      "metadata": {
        "id": "r1q1LSR_cB0c"
      },
      "source": [
        "**Решение**"
      ]
    },
    {
      "cell_type": "code",
      "execution_count": null,
      "metadata": {
        "id": "HKEu7NtMaTmA",
        "colab": {
          "base_uri": "https://localhost:8080/"
        },
        "outputId": "0dbca7c0-baf4-4a90-c767-f970051b417d"
      },
      "outputs": [
        {
          "output_type": "stream",
          "name": "stderr",
          "text": [
            "/tmp/ipython-input-995214009.py:3: RuntimeWarning: overflow encountered in power\n",
            "  data_float ** 110\n"
          ]
        },
        {
          "output_type": "execute_result",
          "data": {
            "text/plain": [
              "array([[          inf, 1.2980742e+33, 1.0000000e+00,           inf,\n",
              "                  inf],\n",
              "       [          inf,           inf,           inf, 1.2980742e+33,\n",
              "                  inf],\n",
              "       [1.0000000e+00,           inf,           inf,           inf,\n",
              "                  inf]], dtype=float32)"
            ]
          },
          "metadata": {},
          "execution_count": 5
        }
      ],
      "source": [
        "# твоё решение здесь\n",
        "data_float = data.astype(np.float32)\n",
        "data_float ** 110"
      ]
    },
    {
      "cell_type": "code",
      "source": [
        "data ** 110"
      ],
      "metadata": {
        "colab": {
          "base_uri": "https://localhost:8080/"
        },
        "id": "0ClNgB52f_x1",
        "outputId": "a5363aa2-1046-483a-b2ab-ddd7ee538a0f"
      },
      "execution_count": null,
      "outputs": [
        {
          "output_type": "execute_result",
          "data": {
            "text/plain": [
              "array([[ 1399551081,           0,           1,  -356331695,   768793337],\n",
              "       [          0,           0,           0,           0, -1218815143],\n",
              "       [          1,  -356331695,           0,  -356331695,  -356331695]],\n",
              "      dtype=int32)"
            ]
          },
          "metadata": {},
          "execution_count": 6
        }
      ]
    },
    {
      "cell_type": "markdown",
      "metadata": {
        "id": "INfeBEU_bNNB"
      },
      "source": [
        "#### Объясни, чем может отличаться результат арифметических операций до и после приведения.  \n",
        "\n"
      ]
    },
    {
      "cell_type": "markdown",
      "metadata": {
        "id": "J5ygdPNOcDAu"
      },
      "source": [
        "**Решение**"
      ]
    },
    {
      "cell_type": "code",
      "execution_count": 1,
      "metadata": {
        "id": "TVxGUC-QaYni",
        "colab": {
          "base_uri": "https://localhost:8080/",
          "height": 35
        },
        "outputId": "37c8447b-c8eb-4c70-c2da-f532acc7921b"
      },
      "outputs": [
        {
          "output_type": "execute_result",
          "data": {
            "text/plain": [
              "'\\nДо применения операции данные будут перезаписываться без ошибки, \\nа после будет возникать ошибка перегрузки типа данных.\\n'"
            ],
            "application/vnd.google.colaboratory.intrinsic+json": {
              "type": "string"
            }
          },
          "metadata": {},
          "execution_count": 1
        }
      ],
      "source": [
        "# твоё решение здесь\n",
        "'''\n",
        "До применения операции данные будут перезаписываться без ошибки,\n",
        "а после будет возникать ошибка перегрузки типа данных.\n",
        "'''"
      ]
    },
    {
      "cell_type": "markdown",
      "metadata": {
        "id": "GDXJVw_WateB"
      },
      "source": [
        "### 1Г (0,3  балла). Возведи исходный массив `data` в квадрат отличным от пункта 3 способом и объясни, как изменится порядок элементов, если потом применить `.flatten()` и `.reshape(1, -1)`. Почему так произошло?"
      ]
    },
    {
      "cell_type": "markdown",
      "metadata": {
        "id": "i_sBOqrccDYH"
      },
      "source": [
        "**Решение**"
      ]
    },
    {
      "cell_type": "code",
      "execution_count": null,
      "metadata": {
        "id": "Phe126ZmaY9C"
      },
      "outputs": [],
      "source": [
        "# твоё решение здесь"
      ]
    },
    {
      "cell_type": "markdown",
      "metadata": {
        "id": "WO2cp1G5DVdF"
      },
      "source": [
        "## 2. Аналитика данных 📈"
      ]
    },
    {
      "cell_type": "markdown",
      "metadata": {
        "id": "0m5Ew-m8NZcq"
      },
      "source": [
        "Представь, что ты — аналитик, отслеживающий время ответа сервиса. У тебя есть набор замеров (в миллисекундах), где большинство значений лежат в пределах нормы, но есть явные выбросы:\n",
        "\n",
        "```\n",
        "[100, 105,  98, 102, 107,  95, 110, 115, 108, 104, 99, 103, 150, 130, 140, 120, 1000, 1200]\n",
        "```\n",
        "\n",
        "А. (0,5 балла) Посчитай для всех 18 замеров:\n",
        "\n",
        "   * среднее\n",
        "   * медиану\n",
        "   * моду\n",
        "   * стандартное отклонение\n",
        "\n",
        "Б. (0,5 балла) В наборе данных два последних значений являются выбросами. Сделай срез, убрав два эти два значения и пересчитай те же статистики для «чистых» 16 замеров.\n",
        "\n",
        "В. (0,5 балла) Посмотри на результаты вычислений в передыдущем пункте и объясни:\n",
        "\n",
        "   * Почему среднее «врет» при наличии парочки сверхмедленных откликов?\n",
        "   * Что лучше отражает «типичное» время ответа — медиана или мода — и почему?\n",
        "\n",
        "Г. (0,5 балла) Стажёр в твоей команде применил к массиву сначала `.flatten()`, а потом `.reshape(6, 3)`. Что ты можешь сказать о таком наборе команд и как ты можешь проинтерпретировать итоговый результат?\n"
      ]
    },
    {
      "cell_type": "code",
      "execution_count": null,
      "metadata": {
        "id": "H5eatRuiDa3x"
      },
      "outputs": [],
      "source": [
        "data = np.array([100, 105,  98, 102, 107,  95, 110, 115, 108, 104,\n",
        "                 99, 103, 150, 130, 140, 120, 1000, 1200])"
      ]
    },
    {
      "cell_type": "markdown",
      "metadata": {
        "id": "GL9wtFjrP7CE"
      },
      "source": [
        "### 2А (0,5 балла) Посчитай для всех 18 замеров:\n",
        "\n"
      ]
    },
    {
      "cell_type": "markdown",
      "metadata": {
        "id": "yt04oX4IP7EL"
      },
      "source": [
        "#### Среднее  \n"
      ]
    },
    {
      "cell_type": "markdown",
      "metadata": {
        "id": "EcuPbPBAQpVC"
      },
      "source": [
        "**Решение**"
      ]
    },
    {
      "cell_type": "code",
      "execution_count": null,
      "metadata": {
        "id": "mXUcAo_NaZ5e",
        "outputId": "6a09a510-dd2b-48f3-96bf-19bd9e4642a8"
      },
      "outputs": [
        {
          "data": {
            "text/plain": [
              "np.float64(221.44444444444446)"
            ]
          },
          "execution_count": 6,
          "metadata": {},
          "output_type": "execute_result"
        }
      ],
      "source": [
        "# твоё решение здесь\n",
        "np.mean(data)"
      ]
    },
    {
      "cell_type": "markdown",
      "metadata": {
        "id": "xitu6TO9P7Gw"
      },
      "source": [
        "#### Медиану  \n"
      ]
    },
    {
      "cell_type": "markdown",
      "metadata": {
        "id": "nfPECXpWQpmP"
      },
      "source": [
        "**Решение**"
      ]
    },
    {
      "cell_type": "code",
      "execution_count": null,
      "metadata": {
        "id": "p4PUXaSuaaaG",
        "outputId": "96381469-23d0-4f61-d042-decb9b70aefb"
      },
      "outputs": [
        {
          "data": {
            "text/plain": [
              "np.float64(107.5)"
            ]
          },
          "execution_count": 7,
          "metadata": {},
          "output_type": "execute_result"
        }
      ],
      "source": [
        "# твоё решение здесь\n",
        "np.median(data)"
      ]
    },
    {
      "cell_type": "markdown",
      "metadata": {
        "id": "vewdjuOCP7Jk"
      },
      "source": [
        "#### Моду  \n"
      ]
    },
    {
      "cell_type": "markdown",
      "metadata": {
        "id": "8ykcNo7cQp1R"
      },
      "source": [
        "**Решение**"
      ]
    },
    {
      "cell_type": "code",
      "execution_count": null,
      "metadata": {
        "id": "ZYNeFZjPab90",
        "outputId": "af62e791-cda2-4f8a-8276-b40aa7c516b9"
      },
      "outputs": [
        {
          "data": {
            "text/plain": [
              "ModeResult(mode=np.int64(95), count=np.int64(1))"
            ]
          },
          "execution_count": 16,
          "metadata": {},
          "output_type": "execute_result"
        }
      ],
      "source": [
        "# твоё решение здесь\n",
        "sps.mode(data)"
      ]
    },
    {
      "cell_type": "markdown",
      "metadata": {
        "id": "HHONOi4MP7Lr"
      },
      "source": [
        "#### Стандартное отклонение  \n"
      ]
    },
    {
      "cell_type": "markdown",
      "metadata": {
        "id": "7MkQyMDOQqEX"
      },
      "source": [
        "**Решение**"
      ]
    },
    {
      "cell_type": "code",
      "execution_count": null,
      "metadata": {
        "id": "E_ZmXeWfacZJ",
        "outputId": "0340f74f-7dc4-46b2-bf6c-4885d1b94bb2"
      },
      "outputs": [
        {
          "data": {
            "text/plain": [
              "np.float64(312.7338631101571)"
            ]
          },
          "execution_count": 15,
          "metadata": {},
          "output_type": "execute_result"
        }
      ],
      "source": [
        "# твоё решение здесь\n",
        "np.std(data)"
      ]
    },
    {
      "cell_type": "markdown",
      "metadata": {
        "id": "5cNzzjykP7OI"
      },
      "source": [
        "### 2Б (0,5 балла). Сделай срез, убрав выбросы и пересчитай те же статистики для «чистых» 16 замеров.\n",
        "\n"
      ]
    },
    {
      "cell_type": "markdown",
      "metadata": {
        "id": "3os1kP6mVeOz"
      },
      "source": [
        "**Решение**"
      ]
    },
    {
      "cell_type": "code",
      "execution_count": null,
      "metadata": {
        "id": "0RcUROhkac0U"
      },
      "outputs": [],
      "source": [
        "# твоё решение здесь\n",
        "new_data = data[:-2]"
      ]
    },
    {
      "cell_type": "markdown",
      "metadata": {
        "id": "Ut16P_pKQdED"
      },
      "source": [
        "#### Среднее  \n"
      ]
    },
    {
      "cell_type": "markdown",
      "metadata": {
        "id": "L9LLVzdNQqYg"
      },
      "source": [
        "**Решение**"
      ]
    },
    {
      "cell_type": "code",
      "execution_count": null,
      "metadata": {
        "id": "yriUKFTbadKN",
        "outputId": "b9614f5e-e528-401f-a713-7fa8426919eb"
      },
      "outputs": [
        {
          "data": {
            "text/plain": [
              "np.float64(111.625)"
            ]
          },
          "execution_count": 11,
          "metadata": {},
          "output_type": "execute_result"
        }
      ],
      "source": [
        "# твоё решение здесь\n",
        "np.mean(new_data)"
      ]
    },
    {
      "cell_type": "markdown",
      "metadata": {
        "id": "ZYC6n-R2QdEE"
      },
      "source": [
        "#### Медиану  \n"
      ]
    },
    {
      "cell_type": "markdown",
      "metadata": {
        "id": "zOXPKG_SQql-"
      },
      "source": [
        "**Решение**"
      ]
    },
    {
      "cell_type": "code",
      "execution_count": null,
      "metadata": {
        "id": "m6H-9b2eadqI",
        "outputId": "609f83f2-5c42-48df-ca95-b5f2d631e41e"
      },
      "outputs": [
        {
          "data": {
            "text/plain": [
              "np.float64(106.0)"
            ]
          },
          "execution_count": 12,
          "metadata": {},
          "output_type": "execute_result"
        }
      ],
      "source": [
        "# твоё решение здесь\n",
        "np.median(new_data)"
      ]
    },
    {
      "cell_type": "markdown",
      "metadata": {
        "id": "gxaqQ4g1QdEE"
      },
      "source": [
        "#### Моду  \n"
      ]
    },
    {
      "cell_type": "markdown",
      "metadata": {
        "id": "XqzQdY1xQq3C"
      },
      "source": [
        "**Решение**"
      ]
    },
    {
      "cell_type": "code",
      "execution_count": null,
      "metadata": {
        "id": "MVTD1TGEad_G",
        "outputId": "61b6904f-a24e-4954-fc40-db39c3b3671f"
      },
      "outputs": [
        {
          "data": {
            "text/plain": [
              "ModeResult(mode=np.int64(95), count=np.int64(1))"
            ]
          },
          "execution_count": 13,
          "metadata": {},
          "output_type": "execute_result"
        }
      ],
      "source": [
        "# твоё решение здесь\n",
        "sps.mode(new_data)"
      ]
    },
    {
      "cell_type": "markdown",
      "metadata": {
        "id": "fv8DJukbQdEE"
      },
      "source": [
        "#### Стандартное отклонение  \n"
      ]
    },
    {
      "cell_type": "markdown",
      "metadata": {
        "id": "RSbOcxWxQrF0"
      },
      "source": [
        "**Решение**"
      ]
    },
    {
      "cell_type": "code",
      "execution_count": null,
      "metadata": {
        "id": "aFr6kZkraeY3",
        "outputId": "8e746c7c-c66d-405e-803d-efd67f96f22a"
      },
      "outputs": [
        {
          "data": {
            "text/plain": [
              "np.float64(15.329200076977273)"
            ]
          },
          "execution_count": 14,
          "metadata": {},
          "output_type": "execute_result"
        }
      ],
      "source": [
        "# твоё решение здесь\n",
        "np.std(new_data)"
      ]
    },
    {
      "cell_type": "markdown",
      "metadata": {
        "id": "tmKpvV4EP7Qm"
      },
      "source": [
        "### 2В (0,5 балла). Посмотри на результаты вычислений в передыдущем пункте и объясни, почему среднее «врет» при наличии парочки сверхмедленных откликов? Что лучше отражает «типичное» время ответа — медиана или мода — и почему?\n"
      ]
    },
    {
      "cell_type": "markdown",
      "metadata": {
        "id": "I6jP2Y3DWYJA"
      },
      "source": [
        "**Решение**"
      ]
    },
    {
      "cell_type": "code",
      "execution_count": null,
      "metadata": {
        "id": "RcdzdhA8af3f"
      },
      "outputs": [],
      "source": [
        "# твоё решение здесь\n",
        "'''\n",
        "\n",
        "'''"
      ]
    },
    {
      "cell_type": "markdown",
      "metadata": {
        "id": "duR7NVnXP7YW"
      },
      "source": [
        "### 2Г (0,5 балла). Словесно опиши, как бы изменилось твоё ощущение данных, если бы ты применил к массиву сначала `.flatten()`, а потом `.reshape(6, 3)`? Представь, что данные относятся к шести отдельным веб-страницам сервиса. На что ты обратил бы внимание, даже не строя графиков? Напиши код и покажи вывод конечного результата. Пошагово объясни, как сработал каждый из методов"
      ]
    },
    {
      "cell_type": "markdown",
      "metadata": {
        "id": "1xBKftfEQrog"
      },
      "source": [
        "**Решение**"
      ]
    },
    {
      "cell_type": "code",
      "execution_count": null,
      "metadata": {
        "id": "-NqQmHMzahm4"
      },
      "outputs": [],
      "source": [
        "# твоё решение здесь"
      ]
    },
    {
      "cell_type": "markdown",
      "metadata": {
        "id": "Jg60XD4BeS3Z"
      },
      "source": [
        "## 3. Рубрика \"Эксперименты\" 🧪\n",
        "\n",
        "Безумный учёный Ржевский и его аспирант Петька проводят эксперимент по скрещиванию кактуса, кальмара и капибары\n",
        "\n",
        "В ходе эксперимента в течение часа каждые 5 минут измеряется температура с датчика. Всего было проведено 3 серии замеров — температуры непосредственно кактуса, кальмара и капибары. Петька записал результаты в виде вложенных списков Python, но для анализа вам необходимо использовать Numpy."
      ]
    },
    {
      "cell_type": "code",
      "execution_count": null,
      "metadata": {
        "colab": {
          "base_uri": "https://localhost:8080/"
        },
        "id": "vVhB2znDfBeU",
        "outputId": "ec0ca04c-efcb-4712-c121-761a76f620a2"
      },
      "outputs": [
        {
          "data": {
            "text/plain": [
              "[20.0, 20.7, 21.9, 22.8, 24.1, 25.0, 26.8, 27.9, 27.3, 26.5, 24.2, 22.8]"
            ]
          },
          "execution_count": 36,
          "metadata": {},
          "output_type": "execute_result"
        }
      ],
      "source": [
        "[20.1, 20.5, 21.3, 22.0, 23.1, 24.9, 26.9, 28.0, 27.5, 26.3, 24.0, 22.8] # 1 серия (температура кактуса)\n",
        "[19.9, 20.3, 21.6, 22.3, 24.0, 25.9, 27.2, 29.5, 28.1, 26.0, 23.9, 22.8] # 2 серия (температура кальмара)\n",
        "[20.0, 20.7, 21.9, 22.8, 24.1, 25.0, 26.8, 23.9, 27.3, 26.5, 24.2, 22.7] # 3 серия (температура капибары)"
      ]
    },
    {
      "cell_type": "markdown",
      "metadata": {
        "id": "DnVck1QofLvs"
      },
      "source": [
        "А. (0,1 балла) Создай двумерный массив Numpy `exp_data` на основе полученных данных\n",
        "\n",
        "Б. (0,5 балла) Профессор Ржевский понял, что проводил замеры в градусах Цельсия, а для вычислений ему нужны Фаренгейты. Создай массив `exp_data_F` со значениями, переведёнными в шкалу Фаренгейта. Формула перевода написана ниже (0,5 балла)\n",
        "\n",
        "$$F = C \\cdot \\dfrac{9}{5} + 32$$\n",
        "\n",
        "В. (0,5 балла) Петька решил изучить данные за последние 5 замеров в каждой серии. На основе полученных значений в Фаренгейтах создайте новую переменную `exp_data_last5` размера 3x5, в которой будут лежать последние 5 замеров в каждой серии (0,5 балла)\n",
        "\n",
        "Г. (0,9 балла) Посчитай стандартное отклонение по всем столбцам среди полученных последних пяти замеров. Какое из значений получилось наименьшим? О чём это говорит? (0,9 балла)"
      ]
    },
    {
      "cell_type": "markdown",
      "metadata": {
        "id": "_I9udnEEgtVO"
      },
      "source": [
        "### 3А (0,1 балла). Создай двумерный массив Numpy `exp_data` на основе полученных данных"
      ]
    },
    {
      "cell_type": "markdown",
      "metadata": {
        "id": "otQSTkb4i5xs"
      },
      "source": [
        "**Решение**"
      ]
    },
    {
      "cell_type": "code",
      "execution_count": null,
      "metadata": {
        "id": "lt9cDueMai9g"
      },
      "outputs": [],
      "source": [
        "# твоё решение здесь\n",
        "exp_data = np.array(([20.1, 20.5, 21.3, 22.0, 23.1, 24.9, 26.9, 28.0, 27.5, 26.3, 24.0, 22.8],\n",
        "                     [19.9, 20.3, 21.6, 22.3, 24.0, 25.9, 27.2, 29.5, 28.1, 26.0, 23.9, 22.8],\n",
        "                     [20.0, 20.7, 21.9, 22.8, 24.1, 25.0, 26.8, 23.9, 27.3, 26.5, 24.2, 22.7]))"
      ]
    },
    {
      "cell_type": "markdown",
      "metadata": {
        "id": "i_5Qp4fThAXc"
      },
      "source": [
        "### 3Б (0,5 балла). Профессор Ржевский понял, что проводил замеры в градусах Цельсия, а для вычислений ему нужны Фаренгейты. Создай массив `exp_data_F` со значениями, переведёнными в шкалу Фаренгейта. Формула перевода написана ниже\n",
        "\n",
        "$$F = C \\cdot \\dfrac{9}{5} + 32$$"
      ]
    },
    {
      "cell_type": "markdown",
      "metadata": {
        "id": "7-bSiBZdi9Aa"
      },
      "source": [
        "**Решение**"
      ]
    },
    {
      "cell_type": "code",
      "execution_count": null,
      "metadata": {
        "id": "JorsfgpPajfp",
        "outputId": "a193e29c-6d71-4bed-b0f0-6e18c18d34d1"
      },
      "outputs": [
        {
          "data": {
            "text/plain": [
              "array([[68.18, 68.9 , 70.34, 71.6 , 73.58, 76.82, 80.42, 82.4 , 81.5 ,\n",
              "        79.34, 75.2 , 73.04],\n",
              "       [67.82, 68.54, 70.88, 72.14, 75.2 , 78.62, 80.96, 85.1 , 82.58,\n",
              "        78.8 , 75.02, 73.04],\n",
              "       [68.  , 69.26, 71.42, 73.04, 75.38, 77.  , 80.24, 75.02, 81.14,\n",
              "        79.7 , 75.56, 72.86]])"
            ]
          },
          "execution_count": 8,
          "metadata": {},
          "output_type": "execute_result"
        }
      ],
      "source": [
        "# твоё решение здесь\n",
        "exp_data_F = exp_data * 9 / 5 + 32\n",
        "exp_data_F"
      ]
    },
    {
      "cell_type": "markdown",
      "metadata": {
        "id": "I3WQ7bwwhJUs"
      },
      "source": [
        "### 3В (0,5 балла). Петька решил изучить данные за последние 5 замеров в каждой серии. Создайте переменную `exp_data_last5` размера 3x5, в котором будут лежать последние 5 замеров в каждой серии"
      ]
    },
    {
      "cell_type": "markdown",
      "metadata": {
        "id": "7vY6HIyDi92F"
      },
      "source": [
        "**Решение**"
      ]
    },
    {
      "cell_type": "code",
      "execution_count": null,
      "metadata": {
        "id": "vVSzRMWQal3d",
        "outputId": "ba5436e8-9fc1-4bed-9f02-6881b8e45540"
      },
      "outputs": [
        {
          "data": {
            "text/plain": [
              "array([[82.4 , 81.5 , 79.34, 75.2 , 73.04],\n",
              "       [85.1 , 82.58, 78.8 , 75.02, 73.04],\n",
              "       [75.02, 81.14, 79.7 , 75.56, 72.86]])"
            ]
          },
          "execution_count": 13,
          "metadata": {},
          "output_type": "execute_result"
        }
      ],
      "source": [
        "# твоё решение здесь\n",
        "exp_data_last5 = exp_data_F[:, -5:]\n",
        "exp_data_last5"
      ]
    },
    {
      "cell_type": "markdown",
      "metadata": {
        "id": "yrFoByPFhSeS"
      },
      "source": [
        "### 3Г (0,9 балла). Посчитайте стандартное отклонение по всем столбцам среди последних пяти замеров. Какое из значений получилось наименьшим? О чём это говорит?"
      ]
    },
    {
      "cell_type": "markdown",
      "metadata": {
        "id": "RyzJ93MXi_hn"
      },
      "source": [
        "**Какое из значений получилось наименьшим?**"
      ]
    },
    {
      "cell_type": "markdown",
      "metadata": {
        "id": "xoNkEUoBjHAy"
      },
      "source": [
        "**О чём это говорит?**"
      ]
    },
    {
      "cell_type": "markdown",
      "metadata": {
        "id": "V35whLJdi-fu"
      },
      "source": [
        "**Решение**"
      ]
    },
    {
      "cell_type": "code",
      "execution_count": null,
      "metadata": {
        "id": "hm_BlZi_anDo",
        "outputId": "0797b055-5398-49d0-8ea7-65c6b768dfb0"
      },
      "outputs": [
        {
          "data": {
            "text/plain": [
              "array([4.26042251, 0.61188234, 0.36986484, 0.22449944, 0.08485281])"
            ]
          },
          "execution_count": 15,
          "metadata": {},
          "output_type": "execute_result"
        }
      ],
      "source": [
        "# твоё решение здесь\n",
        "np.std(exp_data_last5, axis=0)"
      ]
    },
    {
      "cell_type": "code",
      "execution_count": null,
      "metadata": {
        "id": "mDW_CW16dyog",
        "outputId": "4ab42998-3be9-4d1a-b499-45c8f5309411"
      },
      "outputs": [
        {
          "data": {
            "text/plain": [
              "'\\nНаименьшим отклонением оказался последний замер кактуса, капибары и кальмара. Это говорит о \\nтом, что температура кактуса, кальмара и капибары примерно одинакова.\\n'"
            ]
          },
          "execution_count": 17,
          "metadata": {},
          "output_type": "execute_result"
        }
      ],
      "source": [
        "'''\n",
        "Наименьшим отклонением оказался последний замер кактуса, капибары и кальмара. Это говорит о\n",
        "том, что температура кактуса, кальмара и капибары примерно одинакова.\n",
        "'''"
      ]
    },
    {
      "cell_type": "code",
      "execution_count": null,
      "metadata": {
        "id": "RjLHzxKrdyog"
      },
      "outputs": [],
      "source": []
    }
  ],
  "metadata": {
    "colab": {
      "provenance": [],
      "toc_visible": true,
      "include_colab_link": true
    },
    "kernelspec": {
      "display_name": "Python 3 (ipykernel)",
      "language": "python",
      "name": "python3"
    },
    "language_info": {
      "codemirror_mode": {
        "name": "ipython",
        "version": 3
      },
      "file_extension": ".py",
      "mimetype": "text/x-python",
      "name": "python",
      "nbconvert_exporter": "python",
      "pygments_lexer": "ipython3",
      "version": "3.13.7"
    }
  },
  "nbformat": 4,
  "nbformat_minor": 0
}